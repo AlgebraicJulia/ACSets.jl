{
 "cells": [
  {
   "cell_type": "markdown",
   "source": [
    "# Serializing acsets as JSON\n",
    "\n",
    "Catlab supports the serialization of attributed C-sets (acsets) into JSON with their schemas.\n",
    "This functionality should allow you to interoperate with database representations\n",
    "in other languages by serializing both the data and the type into a network interoperability layer."
   ],
   "metadata": {}
  },
  {
   "outputs": [],
   "cell_type": "code",
   "source": [
    "import JSON, JSONSchema\n",
    "\n",
    "using ACSets"
   ],
   "metadata": {},
   "execution_count": 1
  },
  {
   "cell_type": "markdown",
   "source": [
    "You can interact with the schema representation using JSON Schema with the\n",
    "`write_json_acset_schema` and `read_json_acset_schema` functions."
   ],
   "metadata": {}
  },
  {
   "outputs": [
    {
     "output_type": "execute_result",
     "data": {
      "text/plain": "roundtrip_json_acset_schema (generic function with 1 method)"
     },
     "metadata": {},
     "execution_count": 2
    }
   ],
   "cell_type": "code",
   "source": [
    "function roundtrip_json_acset_schema(schema)\n",
    "  mktempdir() do dir\n",
    "    path = joinpath(dir, \"schema.json\")\n",
    "    write_json_acset_schema(schema, path)\n",
    "    read_json_acset_schema(path)\n",
    "  end\n",
    "end"
   ],
   "metadata": {},
   "execution_count": 2
  },
  {
   "cell_type": "markdown",
   "source": [
    "## The JSONSchema for Schemas\n",
    "The following code shows how to view the schema for storing schemas.\n",
    "You can see that this data is encoded in the standardized JSONSchema format,\n",
    "which is a generic way of representing data structures that are serialized to JSON.\n",
    "Notice that there are properties for Homs and Obs.\n",
    "The Homs have fields like name, dom, and codom. The Obs just have a name.\n",
    "AttrTypes are like Obs, but they store the name of the type that the attribute can have.\n",
    "In Julia, the Schemas are parametric in the AttrTypes so that uses can set those types at instance creation time.\n",
    "Attrs are the names of columns that point into the AttrTypes."
   ],
   "metadata": {}
  },
  {
   "outputs": [
    {
     "name": "stdout",
     "output_type": "stream",
     "text": [
      "{\n",
      "  \"data\": {\n",
      "    \"id\": \"https://github.com/AlgebraicJulia/Catlab.jl/tree/master/test/categorical_algebra/acset.schema.json\",\n",
      "    \"$schema\": \"https://json-schema.org/draft/2020-12/schema\",\n",
      "    \"title\": \"ACSet\",\n",
      "    \"type\": \"object\",\n",
      "    \"properties\": {\n",
      "      \"version\": {\n",
      "        \"type\": \"object\",\n",
      "        \"properties\": {\n",
      "          \"ACSetSchema\": {\n",
      "            \"type\": \"string\",\n",
      "            \"pattern\": \"^[0-9][0-9.]*\",\n",
      "            \"additionalProperties\": false\n",
      "          },\n",
      "          \"Catlab\": {\n",
      "            \"type\": \"string\",\n",
      "            \"pattern\": \"^[0-9][0-9.]*\",\n",
      "            \"additionalProperties\": false\n",
      "          }\n",
      "        },\n",
      "        \"required\": [\n",
      "          \"ACSetSchema\",\n",
      "          \"ACSets\"\n",
      "        ]\n",
      "      },\n",
      "      \"Ob\": {\n",
      "        \"type\": \"array\",\n",
      "        \"items\": {\n",
      "          \"type\": \"object\",\n",
      "          \"properties\": {\n",
      "            \"name\": {\n",
      "              \"type\": \"string\"\n",
      "            }\n",
      "          },\n",
      "          \"required\": [\n",
      "            \"name\"\n",
      "          ]\n",
      "        }\n",
      "      },\n",
      "      \"AttrType\": {\n",
      "        \"type\": \"array\",\n",
      "        \"items\": {\n",
      "          \"type\": \"object\",\n",
      "          \"properties\": {\n",
      "            \"name\": {\n",
      "              \"type\": \"string\"\n",
      "            }\n",
      "          },\n",
      "          \"required\": [\n",
      "            \"name\"\n",
      "          ]\n",
      "        }\n",
      "      },\n",
      "      \"Hom\": {\n",
      "        \"type\": \"array\",\n",
      "        \"items\": {\n",
      "          \"type\": \"object\",\n",
      "          \"properties\": {\n",
      "            \"name\": {\n",
      "              \"type\": \"string\"\n",
      "            },\n",
      "            \"dom\": {\n",
      "              \"type\": \"string\"\n",
      "            },\n",
      "            \"codom\": {\n",
      "              \"type\": \"string\"\n",
      "            }\n",
      "          },\n",
      "          \"required\": [\n",
      "            \"name\",\n",
      "            \"dom\",\n",
      "            \"codom\"\n",
      "          ]\n",
      "        }\n",
      "      },\n",
      "      \"Attr\": {\n",
      "        \"type\": \"array\",\n",
      "        \"items\": {\n",
      "          \"type\": \"object\",\n",
      "          \"properties\": {\n",
      "            \"name\": {\n",
      "              \"type\": \"string\"\n",
      "            },\n",
      "            \"dom\": {\n",
      "              \"type\": \"string\"\n",
      "            },\n",
      "            \"codom\": {\n",
      "              \"type\": \"string\"\n",
      "            }\n",
      "          },\n",
      "          \"required\": [\n",
      "            \"name\",\n",
      "            \"dom\",\n",
      "            \"codom\"\n",
      "          ]\n",
      "        }\n",
      "      }\n",
      "    },\n",
      "    \"required\": [\n",
      "      \"Ob\",\n",
      "      \"AttrType\",\n",
      "      \"Hom\",\n",
      "      \"Attr\"\n",
      "    ]\n",
      "  }\n",
      "}\n"
     ]
    }
   ],
   "cell_type": "code",
   "source": [
    "json_schema = JSONSchema.Schema(acset_schema_json_schema())\n",
    "JSON.print(json_schema, 2)"
   ],
   "metadata": {},
   "execution_count": 3
  },
  {
   "cell_type": "markdown",
   "source": [
    "## Example 1: Discrete Dynamical Systems\n",
    "\n",
    "Here is an example of an ACSet schema for Discrete Dynamical Systems.\n",
    "A DDS is just a set `X` whose elements we call states, and a function `next`, which take the current state and gives you the next state.\n",
    "Such systems are used to model processes that occur autonomously and are the simplest possible dynamical system."
   ],
   "metadata": {}
  },
  {
   "outputs": [
    {
     "name": "stdout",
     "output_type": "stream",
     "text": [
      "{\n",
      "  \"version\": {\n",
      "    \"ACSets\": \"0.0.0\",\n",
      "    \"ACSetSchema\": \"0.0.1\"\n",
      "  },\n",
      "  \"Ob\": [\n",
      "    {\n",
      "      \"name\": \"X\"\n",
      "    }\n",
      "  ],\n",
      "  \"Hom\": [\n",
      "    {\n",
      "      \"name\": \"next\",\n",
      "      \"codom\": \"X\",\n",
      "      \"dom\": \"X\"\n",
      "    }\n",
      "  ],\n",
      "  \"AttrType\": [],\n",
      "  \"Attr\": []\n",
      "}\n"
     ]
    }
   ],
   "cell_type": "code",
   "source": [
    "SchDDS = BasicSchema([:X], [(:next,:X,:X)])\n",
    "\n",
    "JSON.print(generate_json_acset_schema(SchDDS), 2)"
   ],
   "metadata": {},
   "execution_count": 4
  },
  {
   "cell_type": "markdown",
   "source": [
    "LabeledDDS are a variation on DDS where the states can have symbolic names. In Catlab, every element of an object has to be identified by its integer row number.\n",
    "This comes out of a tradition in database design where every table has a natural number primary key. In mathematics, we often want to think of the state space not as a set of integers, but as an arbitrary set. In Catlab, we call that set the Labels and use a `label` attribute to implement the mapping of state numbers to state labels. This way the underlying database implementation can still be designed aroung natural number primary keys, but the user can use symbolic labels. Note also that this shows the schema inheritance. We state that a `SchLabeledDDS` inherits from `SchDDS` by adding a `label` attribute of type `Label`."
   ],
   "metadata": {}
  },
  {
   "outputs": [
    {
     "name": "stdout",
     "output_type": "stream",
     "text": [
      "{\n",
      "  \"version\": {\n",
      "    \"ACSets\": \"0.0.0\",\n",
      "    \"ACSetSchema\": \"0.0.1\"\n",
      "  },\n",
      "  \"Ob\": [\n",
      "    {\n",
      "      \"name\": \"X\"\n",
      "    }\n",
      "  ],\n",
      "  \"Hom\": [\n",
      "    {\n",
      "      \"name\": \"next\",\n",
      "      \"codom\": \"X\",\n",
      "      \"dom\": \"X\"\n",
      "    }\n",
      "  ],\n",
      "  \"AttrType\": [\n",
      "    {\n",
      "      \"name\": \"Label\"\n",
      "    }\n",
      "  ],\n",
      "  \"Attr\": [\n",
      "    {\n",
      "      \"name\": \"label\",\n",
      "      \"codom\": \"Label\",\n",
      "      \"dom\": \"X\"\n",
      "    }\n",
      "  ]\n",
      "}\n"
     ]
    }
   ],
   "cell_type": "code",
   "source": [
    "SchLabeledDDS = BasicSchema([:X], [(:next,:X,:X)],\n",
    "                            [:Label], [(:label,:X,:Label)])\n",
    "\n",
    "JSON.print(generate_json_acset_schema(SchLabeledDDS), 2)"
   ],
   "metadata": {},
   "execution_count": 5
  },
  {
   "cell_type": "markdown",
   "source": [
    "## Example 2: Labeled DDS\n",
    "\n",
    "With the LabeledDDS, we will create an instance by specifying data that fits the schema.\n",
    "Then we will create the JSON output to show how it is encoded.\n",
    "The JSON encoded schema above tells you how to read the JSON encoded data below.\n",
    "You can see that the `LabeledDDS` will have a set for `X` with a `Hom` for `next` and an attribute for `label`.\n",
    "Thus we can expect to see the JSON encoding of a single table database below:\n",
    "    1. The first level of JSON is keyed by the table names\n",
    "    2. Each Table is an array of rows\n",
    "    3. Each row is an object keyed by fields.\n",
    "This is the simplest way to put a relational database in a JSON document. It is a little redundant, because the field names are repeated for each row. But that makes it easy to emit and easy to parse. If this becomes a problem, we can upgrade to a more efficient representation by writing more sophisticated parsers. Something like https://github.com/JuliaIO/MsgPack.jl would be appropriate."
   ],
   "metadata": {}
  },
  {
   "outputs": [
    {
     "name": "stdout",
     "output_type": "stream",
     "text": [
      "{\n",
      "  \"X\": [\n",
      "    {\n",
      "      \"_id\": 1,\n",
      "      \"next\": 2,\n",
      "      \"label\": 100\n",
      "    },\n",
      "    {\n",
      "      \"_id\": 2,\n",
      "      \"next\": 3,\n",
      "      \"label\": 101\n",
      "    },\n",
      "    {\n",
      "      \"_id\": 3,\n",
      "      \"next\": 4,\n",
      "      \"label\": 102\n",
      "    },\n",
      "    {\n",
      "      \"_id\": 4,\n",
      "      \"next\": 1,\n",
      "      \"label\": 103\n",
      "    }\n",
      "  ],\n",
      "  \"Label\": []\n",
      "}\n"
     ]
    }
   ],
   "cell_type": "code",
   "source": [
    "@acset_type LabeledDDS(SchLabeledDDS, index=[:next, :label])\n",
    "\n",
    "ldds = LabeledDDS{Int}()\n",
    "add_parts!(ldds, :X, 4, next=[2,3,4,1], label=[100, 101, 102, 103])\n",
    "JSON.print(generate_json_acset(ldds),2)"
   ],
   "metadata": {},
   "execution_count": 6
  },
  {
   "cell_type": "markdown",
   "source": [
    "## Example 3: Graphs\n",
    "\n",
    "Relational databases are great, because they are capable of representing almost anything that can be stored on a computer. We move up to graphs, which is a nice data structure you have probably seen before. Notably, graphs have two tables, one for edges and one for vertices. These are the category theorist's graph, which means that they support multiple parallel edges and self-loops."
   ],
   "metadata": {}
  },
  {
   "outputs": [
    {
     "name": "stdout",
     "output_type": "stream",
     "text": [
      "{\n",
      "  \"version\": {\n",
      "    \"ACSets\": \"0.0.0\",\n",
      "    \"ACSetSchema\": \"0.0.1\"\n",
      "  },\n",
      "  \"Ob\": [\n",
      "    {\n",
      "      \"name\": \"V\"\n",
      "    },\n",
      "    {\n",
      "      \"name\": \"E\"\n",
      "    }\n",
      "  ],\n",
      "  \"Hom\": [\n",
      "    {\n",
      "      \"name\": \"src\",\n",
      "      \"codom\": \"V\",\n",
      "      \"dom\": \"E\"\n",
      "    },\n",
      "    {\n",
      "      \"name\": \"tgt\",\n",
      "      \"codom\": \"V\",\n",
      "      \"dom\": \"E\"\n",
      "    }\n",
      "  ],\n",
      "  \"AttrType\": [],\n",
      "  \"Attr\": []\n",
      "}\n"
     ]
    }
   ],
   "cell_type": "code",
   "source": [
    "# Syntax available in Catlab:\n",
    "# @present SchGraph(FreeSchema) begin\n",
    "#   V::Ob\n",
    "#   E::Ob\n",
    "#   src::Hom(E,V)\n",
    "#   tgt::Hom(E,V)\n",
    "# end\n",
    "\n",
    "SchGraph = BasicSchema([:V,:E], [(:src,:E,:V),(:tgt,:E,:V)])\n",
    "\n",
    "JSON.print(generate_json_acset_schema(SchGraph), 2)"
   ],
   "metadata": {},
   "execution_count": 7
  },
  {
   "cell_type": "markdown",
   "source": [
    "An example graph with 4 vertices and 2 edges."
   ],
   "metadata": {}
  },
  {
   "outputs": [
    {
     "output_type": "execute_result",
     "data": {
      "text/plain": "1:2"
     },
     "metadata": {},
     "execution_count": 8
    }
   ],
   "cell_type": "code",
   "source": [
    "@acset_type Graph(SchGraph, index=[:src, :tgt])\n",
    "\n",
    "g = Graph()\n",
    "add_parts!(g, :V, 4)\n",
    "add_parts!(g, :E, 2, src=[1,2], tgt=[2,3])"
   ],
   "metadata": {},
   "execution_count": 8
  },
  {
   "cell_type": "markdown",
   "source": [
    "Note that the vertices are listed out in a somewhat silly way. They are given as a table with no columns, so they show up in the JSON as a bunch of empty objects. This is for consistency with our next example."
   ],
   "metadata": {}
  },
  {
   "outputs": [
    {
     "name": "stdout",
     "output_type": "stream",
     "text": [
      "{\n",
      "  \"V\": [\n",
      "    {\n",
      "      \"_id\": 1\n",
      "    },\n",
      "    {\n",
      "      \"_id\": 2\n",
      "    },\n",
      "    {\n",
      "      \"_id\": 3\n",
      "    },\n",
      "    {\n",
      "      \"_id\": 4\n",
      "    }\n",
      "  ],\n",
      "  \"E\": [\n",
      "    {\n",
      "      \"_id\": 1,\n",
      "      \"src\": 1,\n",
      "      \"tgt\": 2\n",
      "    },\n",
      "    {\n",
      "      \"_id\": 2,\n",
      "      \"src\": 2,\n",
      "      \"tgt\": 3\n",
      "    }\n",
      "  ]\n",
      "}\n"
     ]
    }
   ],
   "cell_type": "code",
   "source": [
    "JSON.print(generate_json_acset(g), 2)"
   ],
   "metadata": {},
   "execution_count": 9
  },
  {
   "cell_type": "markdown",
   "source": [
    "## Example 4: Vertex and Edge Labeled Graph Graph Schema\n",
    "\n",
    "You can extend schemas by adding more tables and columns. This inheritance is flattened when you serialize to JSON, but could be encoded in a future version."
   ],
   "metadata": {}
  },
  {
   "outputs": [
    {
     "name": "stdout",
     "output_type": "stream",
     "text": [
      "{\n",
      "  \"version\": {\n",
      "    \"ACSets\": \"0.0.0\",\n",
      "    \"ACSetSchema\": \"0.0.1\"\n",
      "  },\n",
      "  \"Ob\": [\n",
      "    {\n",
      "      \"name\": \"V\"\n",
      "    },\n",
      "    {\n",
      "      \"name\": \"E\"\n",
      "    }\n",
      "  ],\n",
      "  \"Hom\": [\n",
      "    {\n",
      "      \"name\": \"src\",\n",
      "      \"codom\": \"V\",\n",
      "      \"dom\": \"E\"\n",
      "    },\n",
      "    {\n",
      "      \"name\": \"tgt\",\n",
      "      \"codom\": \"V\",\n",
      "      \"dom\": \"E\"\n",
      "    }\n",
      "  ],\n",
      "  \"AttrType\": [\n",
      "    {\n",
      "      \"name\": \"Label\"\n",
      "    }\n",
      "  ],\n",
      "  \"Attr\": [\n",
      "    {\n",
      "      \"name\": \"vlabel\",\n",
      "      \"codom\": \"Label\",\n",
      "      \"dom\": \"V\"\n",
      "    },\n",
      "    {\n",
      "      \"name\": \"elabel\",\n",
      "      \"codom\": \"Label\",\n",
      "      \"dom\": \"E\"\n",
      "    }\n",
      "  ]\n",
      "}\n"
     ]
    }
   ],
   "cell_type": "code",
   "source": [
    "# Syntax available in Catlab:\n",
    "# @present SchVELabeledGraph <: SchGraph begin\n",
    "#    Label::AttrType\n",
    "#    vlabel::Attr(V,Label)\n",
    "#    elabel::Attr(E,Label)\n",
    "# end\n",
    "\n",
    "SchVELabeledGraph = BasicSchema([:V,:E], [(:src,:E,:V),(:tgt,:E,:V)],\n",
    "  [:Label], [(:vlabel,:V,:Label),(:elabel,:E,:Label)])\n",
    "\n",
    "JSON.print(generate_json_acset_schema(SchVELabeledGraph), 2)"
   ],
   "metadata": {},
   "execution_count": 10
  },
  {
   "cell_type": "markdown",
   "source": [
    "An example labeled graph using symbols for the vertex and edge names. Note that you can use unicode symbols in Julia."
   ],
   "metadata": {}
  },
  {
   "outputs": [
    {
     "output_type": "execute_result",
     "data": {
      "text/plain": "1:2"
     },
     "metadata": {},
     "execution_count": 11
    }
   ],
   "cell_type": "code",
   "source": [
    "@acset_type VELabeledGraph(SchVELabeledGraph, index=[:src,:tgt])\n",
    "\n",
    "lg = VELabeledGraph{Symbol}()\n",
    "add_parts!(lg, :V, 4, vlabel=[:a, :b, :c, :d])\n",
    "add_parts!(lg, :E, 2, src=[1,2], tgt=[2,3], elabel=[:e₁, :e₂])"
   ],
   "metadata": {},
   "execution_count": 11
  },
  {
   "cell_type": "markdown",
   "source": [
    "This Graph is represented by the following JSON. Now you can see that the vertices have their `vlabels`"
   ],
   "metadata": {}
  },
  {
   "outputs": [
    {
     "name": "stdout",
     "output_type": "stream",
     "text": [
      "{\n",
      "  \"V\": [\n",
      "    {\n",
      "      \"_id\": 1,\n",
      "      \"vlabel\": \"a\"\n",
      "    },\n",
      "    {\n",
      "      \"_id\": 2,\n",
      "      \"vlabel\": \"b\"\n",
      "    },\n",
      "    {\n",
      "      \"_id\": 3,\n",
      "      \"vlabel\": \"c\"\n",
      "    },\n",
      "    {\n",
      "      \"_id\": 4,\n",
      "      \"vlabel\": \"d\"\n",
      "    }\n",
      "  ],\n",
      "  \"E\": [\n",
      "    {\n",
      "      \"_id\": 1,\n",
      "      \"src\": 1,\n",
      "      \"tgt\": 2,\n",
      "      \"elabel\": \"e₁\"\n",
      "    },\n",
      "    {\n",
      "      \"_id\": 2,\n",
      "      \"src\": 2,\n",
      "      \"tgt\": 3,\n",
      "      \"elabel\": \"e₂\"\n",
      "    }\n",
      "  ],\n",
      "  \"Label\": []\n",
      "}\n"
     ]
    }
   ],
   "cell_type": "code",
   "source": [
    "JSON.print(generate_json_acset(lg), 2)"
   ],
   "metadata": {},
   "execution_count": 12
  }
 ],
 "nbformat_minor": 3,
 "metadata": {
  "language_info": {
   "file_extension": ".jl",
   "mimetype": "application/julia",
   "name": "julia",
   "version": "1.9.3"
  },
  "kernelspec": {
   "name": "julia-1.9",
   "display_name": "Julia 1.9.3",
   "language": "julia"
  }
 },
 "nbformat": 4
}
