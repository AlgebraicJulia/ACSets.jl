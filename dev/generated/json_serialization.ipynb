{
 "cells": [
  {
   "cell_type": "markdown",
   "source": [
    "# Serializing acsets as JSON\n",
    "\n",
    "Catlab supports the serialization of attributed C-sets (acsets) into JSON with their schemas.\n",
    "This functionality should allow you to interoperate with database representations\n",
    "in other languages by serializing both the data and the type into a network interoperability layer."
   ],
   "metadata": {}
  },
  {
   "outputs": [],
   "cell_type": "code",
   "source": [
    "import JSON3, JSONSchema\n",
    "\n",
    "using ACSets"
   ],
   "metadata": {},
   "execution_count": 1
  },
  {
   "cell_type": "markdown",
   "source": [
    "You can interact with the schema representation using JSON Schema with the\n",
    "`write_json_acset_schema` and `read_json_acset_schema` functions."
   ],
   "metadata": {}
  },
  {
   "outputs": [
    {
     "output_type": "execute_result",
     "data": {
      "text/plain": "roundtrip_json_acset_schema (generic function with 1 method)"
     },
     "metadata": {},
     "execution_count": 2
    }
   ],
   "cell_type": "code",
   "source": [
    "function roundtrip_json_acset_schema(schema)\n",
    "  mktempdir() do dir\n",
    "    path = joinpath(dir, \"schema.json\")\n",
    "    write_json_acset_schema(schema, path)\n",
    "    read_json_acset_schema(path)\n",
    "  end\n",
    "end"
   ],
   "metadata": {},
   "execution_count": 2
  },
  {
   "cell_type": "markdown",
   "source": [
    "## The JSONSchema for Schemas\n",
    "The following code shows how to view the schema for storing schemas.\n",
    "You can see that this data is encoded in the standardized JSONSchema format,\n",
    "which is a generic way of representing data structures that are serialized to JSON.\n",
    "Notice that there are properties for Homs and Obs.\n",
    "The Homs have fields like name, dom, and codom. The Obs just have a name.\n",
    "AttrTypes are like Obs, but they store the name of the type that the attribute can have.\n",
    "In Julia, the Schemas are parametric in the AttrTypes so that uses can set those types at instance creation time.\n",
    "Attrs are the names of columns that point into the AttrTypes."
   ],
   "metadata": {}
  },
  {
   "outputs": [
    {
     "name": "stdout",
     "output_type": "stream",
     "text": [
      "A JSONSchema2"
     ]
    }
   ],
   "cell_type": "code",
   "source": [
    "json_schema = JSONSchema.Schema(acset_schema_json_schema())\n",
    "JSON3.print(json_schema, 2)"
   ],
   "metadata": {},
   "execution_count": 3
  },
  {
   "cell_type": "markdown",
   "source": [
    "## Example 1: Discrete Dynamical Systems\n",
    "\n",
    "Here is an example of an ACSet schema for Discrete Dynamical Systems.\n",
    "A DDS is just a set `X` whose elements we call states, and a function `next`, which take the current state and gives you the next state.\n",
    "Such systems are used to model processes that occur autonomously and are the simplest possible dynamical system."
   ],
   "metadata": {}
  },
  {
   "outputs": [
    {
     "name": "stdout",
     "output_type": "stream",
     "text": [
      "OrderedCollections.OrderedDict{String, Any}(\"version\" => Dict(\"ACSets\" => \"0.0.0\", \"ACSetSchema\" => \"0.0.1\"), \"Ob\" => [Dict(\"name\" => \"X\")], \"Hom\" => [Dict(\"name\" => \"next\", \"codom\" => \"X\", \"dom\" => \"X\")], \"AttrType\" => Dict{String, String}[], \"Attr\" => Dict{String, String}[])2"
     ]
    }
   ],
   "cell_type": "code",
   "source": [
    "SchDDS = BasicSchema([:X], [(:next,:X,:X)])\n",
    "\n",
    "JSON3.print(generate_json_acset_schema(SchDDS), 2)"
   ],
   "metadata": {},
   "execution_count": 4
  },
  {
   "cell_type": "markdown",
   "source": [
    "LabeledDDS are a variation on DDS where the states can have symbolic names. In Catlab, every element of an object has to be identified by its integer row number.\n",
    "This comes out of a tradition in database design where every table has a natural number primary key. In mathematics, we often want to think of the state space not as a set of integers, but as an arbitrary set. In Catlab, we call that set the Labels and use a `label` attribute to implement the mapping of state numbers to state labels. This way the underlying database implementation can still be designed aroung natural number primary keys, but the user can use symbolic labels. Note also that this shows the schema inheritance. We state that a `SchLabeledDDS` inherits from `SchDDS` by adding a `label` attribute of type `Label`."
   ],
   "metadata": {}
  },
  {
   "outputs": [
    {
     "name": "stdout",
     "output_type": "stream",
     "text": [
      "OrderedCollections.OrderedDict{String, Any}(\"version\" => Dict(\"ACSets\" => \"0.0.0\", \"ACSetSchema\" => \"0.0.1\"), \"Ob\" => [Dict(\"name\" => \"X\")], \"Hom\" => [Dict(\"name\" => \"next\", \"codom\" => \"X\", \"dom\" => \"X\")], \"AttrType\" => [Dict(\"name\" => \"Label\")], \"Attr\" => [Dict(\"name\" => \"label\", \"codom\" => \"Label\", \"dom\" => \"X\")])2"
     ]
    }
   ],
   "cell_type": "code",
   "source": [
    "SchLabeledDDS = BasicSchema([:X], [(:next,:X,:X)],\n",
    "                            [:Label], [(:label,:X,:Label)])\n",
    "\n",
    "JSON3.print(generate_json_acset_schema(SchLabeledDDS), 2)"
   ],
   "metadata": {},
   "execution_count": 5
  },
  {
   "cell_type": "markdown",
   "source": [
    "## Example 2: Labeled DDS\n",
    "\n",
    "With the LabeledDDS, we will create an instance by specifying data that fits the schema.\n",
    "Then we will create the JSON output to show how it is encoded.\n",
    "The JSON encoded schema above tells you how to read the JSON encoded data below.\n",
    "You can see that the `LabeledDDS` will have a set for `X` with a `Hom` for `next` and an attribute for `label`.\n",
    "Thus we can expect to see the JSON encoding of a single table database below:\n",
    "    1. The first level of JSON is keyed by the table names\n",
    "    2. Each Table is an array of rows\n",
    "    3. Each row is an object keyed by fields.\n",
    "This is the simplest way to put a relational database in a JSON document. It is a little redundant, because the field names are repeated for each row. But that makes it easy to emit and easy to parse. If this becomes a problem, we can upgrade to a more efficient representation by writing more sophisticated parsers. Something like https://github.com/JuliaIO/MsgPack.jl would be appropriate."
   ],
   "metadata": {}
  },
  {
   "outputs": [
    {
     "name": "stdout",
     "output_type": "stream",
     "text": [
      "OrderedCollections.OrderedDict{Symbol, Any}(:X => @NamedTuple{_id::Int64, next::Int64, label::Int64}[(_id = 1, next = 2, label = 100), (_id = 2, next = 3, label = 101), (_id = 3, next = 4, label = 102), (_id = 4, next = 1, label = 103)], :Label => @NamedTuple{_id::Int64}[])2"
     ]
    }
   ],
   "cell_type": "code",
   "source": [
    "@acset_type LabeledDDS(SchLabeledDDS, index=[:next, :label])\n",
    "\n",
    "ldds = LabeledDDS{Int}()\n",
    "add_parts!(ldds, :X, 4, next=[2,3,4,1], label=[100, 101, 102, 103])\n",
    "JSON3.print(generate_json_acset(ldds),2)"
   ],
   "metadata": {},
   "execution_count": 6
  },
  {
   "cell_type": "markdown",
   "source": [
    "## Example 3: Graphs\n",
    "\n",
    "Relational databases are great, because they are capable of representing almost anything that can be stored on a computer. We move up to graphs, which is a nice data structure you have probably seen before. Notably, graphs have two tables, one for edges and one for vertices. These are the category theorist's graph, which means that they support multiple parallel edges and self-loops."
   ],
   "metadata": {}
  },
  {
   "outputs": [
    {
     "name": "stdout",
     "output_type": "stream",
     "text": [
      "OrderedCollections.OrderedDict{String, Any}(\"version\" => Dict(\"ACSets\" => \"0.0.0\", \"ACSetSchema\" => \"0.0.1\"), \"Ob\" => [Dict(\"name\" => \"V\"), Dict(\"name\" => \"E\")], \"Hom\" => [Dict(\"name\" => \"src\", \"codom\" => \"V\", \"dom\" => \"E\"), Dict(\"name\" => \"tgt\", \"codom\" => \"V\", \"dom\" => \"E\")], \"AttrType\" => Dict{String, String}[], \"Attr\" => Dict{String, String}[])2"
     ]
    }
   ],
   "cell_type": "code",
   "source": [
    "# Syntax available in Catlab:\n",
    "# @present SchGraph(FreeSchema) begin\n",
    "#   V::Ob\n",
    "#   E::Ob\n",
    "#   src::Hom(E,V)\n",
    "#   tgt::Hom(E,V)\n",
    "# end\n",
    "\n",
    "SchGraph = BasicSchema([:V,:E], [(:src,:E,:V),(:tgt,:E,:V)])\n",
    "\n",
    "JSON3.print(generate_json_acset_schema(SchGraph), 2)"
   ],
   "metadata": {},
   "execution_count": 7
  },
  {
   "cell_type": "markdown",
   "source": [
    "An example graph with 4 vertices and 2 edges."
   ],
   "metadata": {}
  },
  {
   "outputs": [
    {
     "output_type": "execute_result",
     "data": {
      "text/plain": "1:2"
     },
     "metadata": {},
     "execution_count": 8
    }
   ],
   "cell_type": "code",
   "source": [
    "@acset_type Graph(SchGraph, index=[:src, :tgt])\n",
    "\n",
    "g = Graph()\n",
    "add_parts!(g, :V, 4)\n",
    "add_parts!(g, :E, 2, src=[1,2], tgt=[2,3])"
   ],
   "metadata": {},
   "execution_count": 8
  },
  {
   "cell_type": "markdown",
   "source": [
    "Note that the vertices are listed out in a somewhat silly way. They are given as a table with no columns, so they show up in the JSON as a bunch of empty objects. This is for consistency with our next example."
   ],
   "metadata": {}
  },
  {
   "outputs": [
    {
     "name": "stdout",
     "output_type": "stream",
     "text": [
      "OrderedCollections.OrderedDict{Symbol, Any}(:V => @NamedTuple{_id::Int64}[(_id = 1,), (_id = 2,), (_id = 3,), (_id = 4,)], :E => @NamedTuple{_id::Int64, src::Int64, tgt::Int64}[(_id = 1, src = 1, tgt = 2), (_id = 2, src = 2, tgt = 3)])2"
     ]
    }
   ],
   "cell_type": "code",
   "source": [
    "JSON3.print(generate_json_acset(g), 2)"
   ],
   "metadata": {},
   "execution_count": 9
  },
  {
   "cell_type": "markdown",
   "source": [
    "## Example 4: Vertex and Edge Labeled Graph Graph Schema\n",
    "\n",
    "You can extend schemas by adding more tables and columns. This inheritance is flattened when you serialize to JSON, but could be encoded in a future version."
   ],
   "metadata": {}
  },
  {
   "outputs": [
    {
     "name": "stdout",
     "output_type": "stream",
     "text": [
      "OrderedCollections.OrderedDict{String, Any}(\"version\" => Dict(\"ACSets\" => \"0.0.0\", \"ACSetSchema\" => \"0.0.1\"), \"Ob\" => [Dict(\"name\" => \"V\"), Dict(\"name\" => \"E\")], \"Hom\" => [Dict(\"name\" => \"src\", \"codom\" => \"V\", \"dom\" => \"E\"), Dict(\"name\" => \"tgt\", \"codom\" => \"V\", \"dom\" => \"E\")], \"AttrType\" => [Dict(\"name\" => \"Label\")], \"Attr\" => [Dict(\"name\" => \"vlabel\", \"codom\" => \"Label\", \"dom\" => \"V\"), Dict(\"name\" => \"elabel\", \"codom\" => \"Label\", \"dom\" => \"E\")])2"
     ]
    }
   ],
   "cell_type": "code",
   "source": [
    "# Syntax available in Catlab:\n",
    "# @present SchVELabeledGraph <: SchGraph begin\n",
    "#    Label::AttrType\n",
    "#    vlabel::Attr(V,Label)\n",
    "#    elabel::Attr(E,Label)\n",
    "# end\n",
    "\n",
    "SchVELabeledGraph = BasicSchema([:V,:E], [(:src,:E,:V),(:tgt,:E,:V)],\n",
    "  [:Label], [(:vlabel,:V,:Label),(:elabel,:E,:Label)])\n",
    "\n",
    "JSON3.print(generate_json_acset_schema(SchVELabeledGraph), 2)"
   ],
   "metadata": {},
   "execution_count": 10
  },
  {
   "cell_type": "markdown",
   "source": [
    "An example labeled graph using symbols for the vertex and edge names. Note that you can use unicode symbols in Julia."
   ],
   "metadata": {}
  },
  {
   "outputs": [
    {
     "output_type": "execute_result",
     "data": {
      "text/plain": "1:2"
     },
     "metadata": {},
     "execution_count": 11
    }
   ],
   "cell_type": "code",
   "source": [
    "@acset_type VELabeledGraph(SchVELabeledGraph, index=[:src,:tgt])\n",
    "\n",
    "lg = VELabeledGraph{Symbol}()\n",
    "add_parts!(lg, :V, 4, vlabel=[:a, :b, :c, :d])\n",
    "add_parts!(lg, :E, 2, src=[1,2], tgt=[2,3], elabel=[:e₁, :e₂])"
   ],
   "metadata": {},
   "execution_count": 11
  },
  {
   "cell_type": "markdown",
   "source": [
    "This Graph is represented by the following JSON. Now you can see that the vertices have their `vlabels`"
   ],
   "metadata": {}
  },
  {
   "outputs": [
    {
     "name": "stdout",
     "output_type": "stream",
     "text": [
      "OrderedCollections.OrderedDict{Symbol, Any}(:V => @NamedTuple{_id::Int64, vlabel::Symbol}[(_id = 1, vlabel = :a), (_id = 2, vlabel = :b), (_id = 3, vlabel = :c), (_id = 4, vlabel = :d)], :E => @NamedTuple{_id::Int64, src::Int64, tgt::Int64, elabel::Symbol}[(_id = 1, src = 1, tgt = 2, elabel = :e₁), (_id = 2, src = 2, tgt = 3, elabel = :e₂)], :Label => @NamedTuple{_id::Int64}[])2"
     ]
    }
   ],
   "cell_type": "code",
   "source": [
    "JSON3.print(generate_json_acset(lg), 2)"
   ],
   "metadata": {},
   "execution_count": 12
  }
 ],
 "nbformat_minor": 3,
 "metadata": {
  "language_info": {
   "file_extension": ".jl",
   "mimetype": "application/julia",
   "name": "julia",
   "version": "1.10.0"
  },
  "kernelspec": {
   "name": "julia-1.10",
   "display_name": "Julia 1.10.0",
   "language": "julia"
  }
 },
 "nbformat": 4
}
