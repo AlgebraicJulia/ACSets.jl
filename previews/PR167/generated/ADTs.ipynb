{
 "cells": [
  {
   "cell_type": "markdown",
   "source": [
    "# Specifying acsets using Algebraic Data Types"
   ],
   "metadata": {}
  },
  {
   "cell_type": "markdown",
   "source": [
    "ACSets are an extremely flexible data representation that can store anything you\n",
    "can put in a database. But in order to construct them, you might want\n",
    "something that feels more like a custom programming language.\n",
    "The Graphviz software comes with a custom language called dot files for specifying\n",
    "the data of a graph that Graphviz will draw. In order to make implementing\n",
    "these linguisting interfaces easier, ACSets.jl supports an Algebraic Data Types approach\n",
    "to specification of ACSets."
   ],
   "metadata": {}
  },
  {
   "outputs": [],
   "cell_type": "code",
   "source": [
    "using ACSets, ACSets.ADTs\n",
    "using MLStyle\n",
    "using Test\n",
    "import ACSets.ADTs: symb2string"
   ],
   "metadata": {},
   "execution_count": 1
  },
  {
   "cell_type": "markdown",
   "source": [
    "Our schema will be labeled graphs. These are graphs with vertex labels."
   ],
   "metadata": {}
  },
  {
   "outputs": [
    {
     "output_type": "execute_result",
     "data": {
      "text/plain": "Main.var\"##226\".LabeledGraph"
     },
     "metadata": {},
     "execution_count": 2
    }
   ],
   "cell_type": "code",
   "source": [
    "SchLabeledGraph = BasicSchema([:E,:V], [(:src,:E,:V),(:tgt,:E,:V)],\n",
    "                          [:L], [(:label,:V,:L)])\n",
    "\n",
    "@acset_type LabeledGraph(SchLabeledGraph, index=[:src,:tgt])"
   ],
   "metadata": {},
   "execution_count": 2
  },
  {
   "cell_type": "markdown",
   "source": [
    "The basic principle is a nested expression syntax for specifying the ACSet."
   ],
   "metadata": {}
  },
  {
   "outputs": [
    {
     "output_type": "execute_result",
     "data": {
      "text/plain": "  E(2,3)"
     },
     "metadata": {},
     "execution_count": 3
    }
   ],
   "cell_type": "code",
   "source": [
    "s = Statement(:E, [Value(2), Value(3)])"
   ],
   "metadata": {},
   "execution_count": 3
  },
  {
   "cell_type": "markdown",
   "source": [
    "You can extract information from an expression with pattern matching from MLStyle.jl"
   ],
   "metadata": {}
  },
  {
   "outputs": [
    {
     "output_type": "execute_result",
     "data": {
      "text/plain": "\u001b[32m\u001b[1mTest Passed\u001b[22m\u001b[39m"
     },
     "metadata": {},
     "execution_count": 4
    }
   ],
   "cell_type": "code",
   "source": [
    "get_table(s) = @match s begin\n",
    "    Statement(t, e) => t\n",
    "    _ => nothing\n",
    "end\n",
    "get_arg1(s) = @match s begin\n",
    "    Statement(t, e) => e[1]\n",
    "end\n",
    "\n",
    "@test get_table(s) == :E\n",
    "@test get_arg1(s) == Value(2)"
   ],
   "metadata": {},
   "execution_count": 4
  },
  {
   "cell_type": "markdown",
   "source": [
    "These statements can be grouped together into a list an tagged with the type of ACSet you want to make."
   ],
   "metadata": {}
  },
  {
   "outputs": [
    {
     "output_type": "execute_result",
     "data": {
      "text/plain": "LabeledGraph{Symbol} begin \n  V(label=a)\n  V(label=b)\n  V(label=c)\n  E(1,3)\n  E(2,3)\n end"
     },
     "metadata": {},
     "execution_count": 5
    }
   ],
   "cell_type": "code",
   "source": [
    "gspec = ACSetSpec(\n",
    "    :(LabeledGraph{Symbol}),\n",
    "    [\n",
    "        Statement(:V, [Kwarg(:label, Value(:a))])\n",
    "        Statement(:V, [Kwarg(:label, Value(:b))])\n",
    "        Statement(:V, [Kwarg(:label, Value(:c))])\n",
    "        Statement(:E, [Value(1), Value(3)])\n",
    "        Statement(:E, [Value(2), Value(3)])\n",
    "    ]\n",
    ")"
   ],
   "metadata": {},
   "execution_count": 5
  },
  {
   "cell_type": "markdown",
   "source": [
    "These expressions can be serialized as strings:"
   ],
   "metadata": {}
  },
  {
   "outputs": [
    {
     "output_type": "execute_result",
     "data": {
      "text/plain": "\"LabeledGraph{Symbol} begin \\n  V(label=a)\\n  V(label=b)\\n  V(label=c)\\n  E(1,3)\\n  E(2,3)\\n end\""
     },
     "metadata": {},
     "execution_count": 6
    }
   ],
   "cell_type": "code",
   "source": [
    "sprint(show, gspec)"
   ],
   "metadata": {},
   "execution_count": 6
  },
  {
   "cell_type": "markdown",
   "source": [
    "Or as Julia code:"
   ],
   "metadata": {}
  },
  {
   "outputs": [
    {
     "output_type": "execute_result",
     "data": {
      "text/plain": "quote\n    \u001b[90m#= /home/runner/work/ACSets.jl/ACSets.jl/src/ADTs.jl:94 =#\u001b[39m\n    X = LabeledGraph{Symbol}()\n    \u001b[90m#= /home/runner/work/ACSets.jl/ACSets.jl/src/ADTs.jl:95 =#\u001b[39m\n    add_part!(X, :V, label = :a)\n    add_part!(X, :V, label = :b)\n    add_part!(X, :V, label = :c)\n    add_part!(X, :E, 1, 3)\n    add_part!(X, :E, 2, 3)\nend"
     },
     "metadata": {},
     "execution_count": 7
    }
   ],
   "cell_type": "code",
   "source": [
    "generate_expr(gspec)"
   ],
   "metadata": {},
   "execution_count": 7
  },
  {
   "cell_type": "markdown",
   "source": [
    "From the ACSetSpec you can construct the ACSet that it specifies."
   ],
   "metadata": {}
  },
  {
   "outputs": [
    {
     "output_type": "execute_result",
     "data": {
      "text/plain": "Main.var\"##226\".LabeledGraph{Symbol} {E:2, V:3, L:0}\n┌───┬─────┬─────┐\n│\u001b[1m E │\u001b[1m src │\u001b[1m tgt │\n├───┼─────┼─────┤\n│\u001b[1m 1 │   1 │   3 │\n│\u001b[1m 2 │   2 │   3 │\n└───┴─────┴─────┘\n┌───┬───────┐\n│\u001b[1m V │\u001b[1m label │\n├───┼───────┤\n│\u001b[1m 1 │     a │\n│\u001b[1m 2 │     b │\n│\u001b[1m 3 │     c │\n└───┴───────┘\n",
      "text/html": [
       "<div class=\"c-set\">\n",
       "<span class=\"c-set-summary\">Main.var\"##226\".LabeledGraph{Symbol} {E:2, V:3, L:0}</span>\n",
       "<table>\n",
       "  <thead>\n",
       "    <tr class = \"header headerLastRow\">\n",
       "      <th class = \"rowLabel\" style = \"font-weight: bold; text-align: right;\">E</th>\n",
       "      <th style = \"text-align: right;\">src</th>\n",
       "      <th style = \"text-align: right;\">tgt</th>\n",
       "    </tr>\n",
       "  </thead>\n",
       "  <tbody>\n",
       "    <tr>\n",
       "      <td class = \"rowLabel\" style = \"font-weight: bold; text-align: right;\">1</td>\n",
       "      <td style = \"text-align: right;\">1</td>\n",
       "      <td style = \"text-align: right;\">3</td>\n",
       "    </tr>\n",
       "    <tr>\n",
       "      <td class = \"rowLabel\" style = \"font-weight: bold; text-align: right;\">2</td>\n",
       "      <td style = \"text-align: right;\">2</td>\n",
       "      <td style = \"text-align: right;\">3</td>\n",
       "    </tr>\n",
       "  </tbody>\n",
       "</table>\n",
       "<table>\n",
       "  <thead>\n",
       "    <tr class = \"header headerLastRow\">\n",
       "      <th class = \"rowLabel\" style = \"font-weight: bold; text-align: right;\">V</th>\n",
       "      <th style = \"text-align: right;\">label</th>\n",
       "    </tr>\n",
       "  </thead>\n",
       "  <tbody>\n",
       "    <tr>\n",
       "      <td class = \"rowLabel\" style = \"font-weight: bold; text-align: right;\">1</td>\n",
       "      <td style = \"text-align: right;\">a</td>\n",
       "    </tr>\n",
       "    <tr>\n",
       "      <td class = \"rowLabel\" style = \"font-weight: bold; text-align: right;\">2</td>\n",
       "      <td style = \"text-align: right;\">b</td>\n",
       "    </tr>\n",
       "    <tr>\n",
       "      <td class = \"rowLabel\" style = \"font-weight: bold; text-align: right;\">3</td>\n",
       "      <td style = \"text-align: right;\">c</td>\n",
       "    </tr>\n",
       "  </tbody>\n",
       "</table>\n",
       "</div>\n"
      ]
     },
     "metadata": {},
     "execution_count": 8
    }
   ],
   "cell_type": "code",
   "source": [
    "gspec = ACSetSpec(\n",
    "    :(LabeledGraph{Symbol}),\n",
    "    [\n",
    "        Statement(:V, [Kwarg(:label, Value(:a))])\n",
    "        Statement(:V, [Kwarg(:label, Value(:b))])\n",
    "        Statement(:V, [Kwarg(:label, Value(:c))])\n",
    "        Statement(:E, [Kwarg(:src, Value(1)), Kwarg(:tgt, Value(3))])\n",
    "        Statement(:E, [Kwarg(:src, Value(2)), Kwarg(:tgt, Value(3))])\n",
    "    ]\n",
    ")\n",
    "g = construct(LabeledGraph{Symbol}, gspec)"
   ],
   "metadata": {},
   "execution_count": 8
  },
  {
   "cell_type": "markdown",
   "source": [
    "There is an embedding of `ACSetSpec` into `Expr`:"
   ],
   "metadata": {}
  },
  {
   "outputs": [
    {
     "output_type": "execute_result",
     "data": {
      "text/plain": "LabeledGraph{Symbol} begin \n  V(label=a)\n  V(label=b)\n  V(label=c)\n  E(src=1,tgt=3)\n  E(src=2,tgt=3)\n end"
     },
     "metadata": {},
     "execution_count": 9
    }
   ],
   "cell_type": "code",
   "source": [
    "hspec = acsetspec(:(LabeledGraph{Symbol}),quote\n",
    "    V(label=a)\n",
    "    V(label=b)\n",
    "    V(label=c)\n",
    "    E(src=1,tgt=3)\n",
    "    E(src=2,tgt=3)\n",
    "end\n",
    ")"
   ],
   "metadata": {},
   "execution_count": 9
  },
  {
   "cell_type": "markdown",
   "source": [
    "The `acsetspec` function is a good example of embedding your custom language into Julia syntax\n",
    "That save you the trouble of writing your own lexer and parser for your custom language."
   ],
   "metadata": {}
  },
  {
   "outputs": [
    {
     "output_type": "execute_result",
     "data": {
      "text/plain": "true"
     },
     "metadata": {},
     "execution_count": 10
    }
   ],
   "cell_type": "code",
   "source": [
    "construct(LabeledGraph{Symbol}, hspec) == construct(LabeledGraph{Symbol}, gspec)"
   ],
   "metadata": {},
   "execution_count": 10
  },
  {
   "cell_type": "markdown",
   "source": [
    "You can export your specification to a dictionary and put that dictionary into a JSON document\n",
    "this gives you a nice way of serializing the ACSet that is machine readable and row oriented.\n",
    "The ACSet serialization is by column oriented which might be inconvenient for your consumers."
   ],
   "metadata": {}
  },
  {
   "outputs": [
    {
     "output_type": "execute_result",
     "data": {
      "text/plain": "Dict{Symbol, Any} with 2 entries:\n  :type => \"LabeledGraph{Symbol}\"\n  :data => Dict{Symbol, Any}[Dict(:table=>:V, :fields=>Dict(:label=>:a)), Dict(…"
     },
     "metadata": {},
     "execution_count": 11
    }
   ],
   "cell_type": "code",
   "source": [
    "to_dict(gspec)"
   ],
   "metadata": {},
   "execution_count": 11
  }
 ],
 "nbformat_minor": 3,
 "metadata": {
  "language_info": {
   "file_extension": ".jl",
   "mimetype": "application/julia",
   "name": "julia",
   "version": "1.10.0"
  },
  "kernelspec": {
   "name": "julia-1.10",
   "display_name": "Julia 1.10.0",
   "language": "julia"
  }
 },
 "nbformat": 4
}
